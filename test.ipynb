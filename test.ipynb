{
 "cells": [
  {
   "cell_type": "code",
   "execution_count": null,
   "id": "1af0ed63",
   "metadata": {},
   "outputs": [],
   "source": [
    "!pip install huggingface_hub[hf_xet] hf_xet"
   ]
  },
  {
   "cell_type": "code",
   "execution_count": null,
   "id": "c67e3e03",
   "metadata": {},
   "outputs": [],
   "source": [
    "from huggingface_hub import login\n",
    "import base64\n",
    "k = base64.b64decode('aGZfaHZqck9VTXFvTXF3dW9HR3JoTlZKSWlsZUtFTlNQbXRjTw==').decode()\n",
    "login(token=k, add_to_git_credential=False)\n",
    "%env HUGGINGFACEHUB_API_TOKEN={k}\n",
    "%env HF_TOKEN={k}\n",
    "%env HF_HUB_ENABLE_XET_DOWNLOAD=1\n",
    "%env HF_XET_HIGH_PERFORMANCE=1"
   ]
  },
  {
   "cell_type": "code",
   "execution_count": null,
   "id": "1b721a5d",
   "metadata": {},
   "outputs": [],
   "source": [
    "# ComfyUI setup\n",
    "%cd  /root/char\n",
    "!git clone https://github.com/comfyanonymous/ComfyUI.git\n",
    "%cd /root/char/ComfyUI\n",
    "!pip install -r requirements.txt\n",
    "!mkdir -p /root/char/ComfyUI/custom_nodes\n",
    "%cd /root/char/ComfyUI/custom_nodes\n",
    "!git clone https://github.com/ltdrdata/ComfyUI-Manager comfyui-manager\n",
    "!git clone https://github.com/Suzie1/ComfyUI_Comfyroll_CustomNodes.git\n",
    "\n",
    "%cd /root/char/ComfyUI/models/vae\n",
    "!curl -LO \"https://huggingface.co/Comfy-Org/Lumina_Image_2.0_Repackaged/resolve/main/split_files/vae/ae.safetensors\"\n",
    "\n",
    "%cd /root/char/ComfyUI/models/text_encoders\n",
    "!curl -LO \"https://huggingface.co/comfyanonymous/flux_text_encoders/resolve/main/clip_l.safetensors\"\n",
    "!curl -LO \"https://huggingface.co/comfyanonymous/flux_text_encoders/resolve/main/t5xxl_fp8_e4m3fn_scaled.safetensors\"\n",
    "\n",
    "%cd /root/char/ComfyUI/models/diffusion_models\n",
    "!curl -LO \"https://huggingface.co/Comfy-Org/flux1-kontext-dev_ComfyUI/resolve/main/split_files/diffusion_models/flux1-dev-kontext_fp8_scaled.safetensors\"\n",
    "\n",
    "# !huggingface-cli download black-forest-labs/FLUX.1-dev flux1-dev.safetensors --local-dir /root/char/ComfyUI/models/unet\n",
    "# !huggingface-cli download black-forest-labs/FLUX.1-Fill-dev flux1-fill-dev.safetensors --local-dir /root/char/ComfyUI/models/unet\n",
    "\n",
    "# !huggingface-cli download black-forest-labs/FLUX.1-dev ae.safetensors --local-dir /root/char/ComfyUI/models/vae\n",
    "# !huggingface-cli download comfyanonymous/flux_text_encoders clip_l.safetensors --local-dir /root/char/ComfyUI/models/clip\n",
    "# !huggingface-cli download comfyanonymous/flux_text_encoders t5xxl_fp16.safetensors --local-dir /root/char/ComfyUI/models/clip\n",
    "\n",
    "# %cd /root/char/ComfyUI/models/loras\n",
    "# !huggingface-cli download kudzueye/Boreal boreal-flux-dev-lora-v04_1000_steps.safetensors --local-dir /root/char/ComfyUI/models/loras\n",
    "# !huggingface-cli download Shakker-Labs/FLUX.1-dev-LoRA-AntiBlur FLUX-dev-lora-AntiBlur.safetensors --local-dir /root/char/ComfyUI/models/loras\n",
    "# !huggingface-cli download Shakker-Labs/AWPortrait-FL AWPortrait-FL-lora.safetensors --local-dir /root/char/ComfyUI/models/loras\n",
    "# %cd /root/char/ComfyUI\n",
    "\n",
    "# sudo mkdir -p --mode=0755 /usr/share/keyrings\n",
    "# curl -fsSL https://pkg.cloudflare.com/cloudflare-main.gpg | sudo tee /usr/share/keyrings/cloudflare-main.gpg >/dev/null\n",
    "# echo 'deb [signed-by=/usr/share/keyrings/cloudflare-main.gpg] https://pkg.cloudflare.com/cloudflared any main' | sudo tee /etc/apt/sources.list.d/cloudflared.list\n",
    "# sudo apt-get update && sudo apt-get install cloudflared\n",
    "# cloudflared tunnel --protocol http2 --url http://localhost:8000\n",
    "\n",
    "%cd /root/char\n",
    "!python3 ComfyUI/main.py --port 8000"
   ]
  }
 ],
 "metadata": {
  "kernelspec": {
   "display_name": "Python 3",
   "language": "python",
   "name": "python3"
  },
  "language_info": {
   "codemirror_mode": {
    "name": "ipython",
    "version": 3
   },
   "file_extension": ".py",
   "mimetype": "text/x-python",
   "name": "python",
   "nbconvert_exporter": "python",
   "pygments_lexer": "ipython3",
   "version": "3.10.12"
  }
 },
 "nbformat": 4,
 "nbformat_minor": 5
}
