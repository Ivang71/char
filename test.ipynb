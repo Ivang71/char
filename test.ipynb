{
 "cells": [
  {
   "cell_type": "code",
   "execution_count": null,
   "id": "1af0ed63",
   "metadata": {},
   "outputs": [],
   "source": [
    "!pip install --upgrade huggingface_hub[hf_xet] hf_xet peft diffusers transformers accelerate"
   ]
  },
  {
   "cell_type": "code",
   "execution_count": null,
   "id": "c67e3e03",
   "metadata": {},
   "outputs": [],
   "source": [
    "from huggingface_hub import login\n",
    "import base64\n",
    "k = base64.b64decode('aGZfaHZqck9VTXFvTXF3dW9HR3JoTlZKSWlsZUtFTlNQbXRjTw==').decode()\n",
    "login(token=k, add_to_git_credential=False)\n",
    "%env HUGGINGFACEHUB_API_TOKEN={k}\n",
    "%env HF_TOKEN={k}\n",
    "%env HF_HUB_ENABLE_XET_DOWNLOAD=1\n",
    "%env HF_XET_HIGH_PERFORMANCE=1"
   ]
  },
  {
   "cell_type": "code",
   "execution_count": null,
   "id": "1b721a5d",
   "metadata": {},
   "outputs": [],
   "source": [
    "# ComfyUI setup\n",
    "%cd  /root/char\n",
    "!git clone https://github.com/comfyanonymous/ComfyUI.git\n",
    "%cd /root/char/ComfyUI\n",
    "!pip install -r requirements.txt\n",
    "!mkdir -p /root/char/ComfyUI/custom_nodes\n",
    "%cd /root/char/ComfyUI/custom_nodes\n",
    "!git clone https://github.com/ltdrdata/ComfyUI-Manager comfyui-manager\n",
    "!git clone https://github.com/Suzie1/ComfyUI_Comfyroll_CustomNodes.git\n",
    "\n",
    "%cd /root/char/ComfyUI/models/vae\n",
    "!curl -LOz \"https://huggingface.co/Comfy-Org/Lumina_Image_2.0_Repackaged/resolve/main/split_files/vae/ae.safetensors\"\n",
    "\n",
    "%cd /root/char/ComfyUI/models/text_encoders\n",
    "!curl -LOz \"https://huggingface.co/comfyanonymous/flux_text_encoders/resolve/main/clip_l.safetensors\"\n",
    "# !curl -LOz \"https://huggingface.co/comfyanonymous/flux_text_encoders/resolve/main/t5xxl_fp8_e4m3fn_scaled.safetensors\"\n",
    "!curl -LOz \"https://huggingface.co/comfyanonymous/flux_text_encoders/resolve/main/t5xxl_fp16.safetensors\"\n",
    "\n",
    "%cd /root/char/ComfyUI/models/diffusion_models\n",
    "!curl -LOz \"https://huggingface.co/Comfy-Org/flux1-kontext-dev_ComfyUI/resolve/main/split_files/diffusion_models/flux1-dev-kontext_fp8_scaled.safetensors\"\n",
    "# !curl -LOz \"https://huggingface.co/black-forest-labs/FLUX.1-Kontext-dev/resolve/main/flux1-kontext-dev.safetensors\"\n",
    "\n",
    "\n",
    "# !huggingface-cli download black-forest-labs/FLUX.1-dev flux1-dev.safetensors --local-dir /root/char/ComfyUI/models/unet\n",
    "# !huggingface-cli download black-forest-labs/FLUX.1-Fill-dev flux1-fill-dev.safetensors --local-dir /root/char/ComfyUI/models/unet\n",
    "\n",
    "# !huggingface-cli download black-forest-labs/FLUX.1-dev ae.safetensors --local-dir /root/char/ComfyUI/models/vae\n",
    "# !huggingface-cli download comfyanonymous/flux_text_encoders clip_l.safetensors --local-dir /root/char/ComfyUI/models/clip\n",
    "# !huggingface-cli download comfyanonymous/flux_text_encoders t5xxl_fp16.safetensors --local-dir /root/char/ComfyUI/models/clip\n",
    "\n",
    "# %cd /root/char/ComfyUI/models/loras\n",
    "# !huggingface-cli download kudzueye/Boreal boreal-flux-dev-lora-v04_1000_steps.safetensors --local-dir /root/char/ComfyUI/models/loras\n",
    "# !huggingface-cli download Shakker-Labs/FLUX.1-dev-LoRA-AntiBlur FLUX-dev-lora-AntiBlur.safetensors --local-dir /root/char/ComfyUI/models/loras\n",
    "# !huggingface-cli download Shakker-Labs/AWPortrait-FL AWPortrait-FL-lora.safetensors --local-dir /root/char/ComfyUI/models/loras\n",
    "# %cd /root/char/ComfyUI\n",
    "\n",
    "# sudo mkdir -p --mode=0755 /usr/share/keyrings\n",
    "# curl -fsSL https://pkg.cloudflare.com/cloudflare-main.gpg | sudo tee /usr/share/keyrings/cloudflare-main.gpg >/dev/null\n",
    "# echo 'deb [signed-by=/usr/share/keyrings/cloudflare-main.gpg] https://pkg.cloudflare.com/cloudflared any main' | sudo tee /etc/apt/sources.list.d/cloudflared.list\n",
    "# sudo apt-get update && sudo apt-get install cloudflared\n",
    "# cloudflared tunnel --protocol http2 --url http://localhost:8000 # on some machine gotta remove \"--protocol http2\"\n",
    "\n",
    "%cd /root/char\n",
    "!python3 ComfyUI/main.py --port 8000"
   ]
  },
  {
   "cell_type": "code",
   "execution_count": null,
   "id": "7aef56d3",
   "metadata": {},
   "outputs": [],
   "source": [
    "import torch\n",
    "from diffusers import FluxKontextPipeline\n",
    "from diffusers.utils import load_image\n",
    "import time\n",
    "\n",
    "pipe = FluxKontextPipeline.from_pretrained(\n",
    "    \"black-forest-labs/FLUX.1-Kontext-dev\",\n",
    "    torch_dtype=torch.bfloat16,\n",
    "    # attn_implementation=\"flash_attention_2\",\n",
    ").to(\"cuda\")"
   ]
  },
  {
   "cell_type": "code",
   "execution_count": null,
   "id": "28496ee8",
   "metadata": {},
   "outputs": [],
   "source": [
    "pipe.load_lora_weights(\"kudzueye/Boreal\", weight_name=\"boreal-flux-dev-lora-v04_1000_steps.safetensors\", adapter_name=\"boreal\")\n",
    "pipe.set_adapters([\"boreal\"], [0.7])\n",
    "pipe.fuse_lora()"
   ]
  },
  {
   "cell_type": "code",
   "execution_count": null,
   "id": "34142974",
   "metadata": {},
   "outputs": [],
   "source": [
    "input_image = load_image(\"https://i.pinimg.com/1200x/30/c7/c0/30c7c096959245ce68c47faa4302c4bf.jpg\")\n",
    "\n",
    "generator = torch.Generator(device=\"cuda\").manual_seed(0)\n",
    "\n",
    "guidance = 2.5\n",
    "steps = 40\n",
    "\n",
    "image = pipe(\n",
    "    image=input_image,\n",
    "    prompt=\"Make a close up photo of her on a neutral background looking straight at the camera wearing a white tank top\",\n",
    "    guidance_scale=guidance,\n",
    "    num_inference_steps=steps,\n",
    "    generator=generator,\n",
    "    width=944,\n",
    "    height=1104,\n",
    ").images[0]\n",
    "\n",
    "image.save(f\"out/{guidance}_{steps}.jpg\")"
   ]
  }
 ],
 "metadata": {
  "kernelspec": {
   "display_name": "Python 3",
   "language": "python",
   "name": "python3"
  },
  "language_info": {
   "codemirror_mode": {
    "name": "ipython",
    "version": 3
   },
   "file_extension": ".py",
   "mimetype": "text/x-python",
   "name": "python",
   "nbconvert_exporter": "python",
   "pygments_lexer": "ipython3",
   "version": "3.10.12"
  }
 },
 "nbformat": 4,
 "nbformat_minor": 5
}
